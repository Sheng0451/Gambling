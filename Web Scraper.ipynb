{
 "cells": [
  {
   "cell_type": "markdown",
   "id": "0188f517",
   "metadata": {},
   "source": [
    "# End Objectives\n",
    "- Refresh periodically or turn into an api?\n",
    "- Scrape multiple sports(NBA, MMA, SOCCER, TENNIS, DOGS and HORSES)\n",
    "- Multiple Sports site comparisons\n",
    "- Text or email you the notice (twillio)"
   ]
  },
  {
   "cell_type": "markdown",
   "id": "2741dce7",
   "metadata": {},
   "source": [
    "## Install Dependencies"
   ]
  },
  {
   "cell_type": "code",
   "execution_count": 2,
   "id": "6c4b3ba2",
   "metadata": {},
   "outputs": [],
   "source": [
    "from bs4 import BeautifulSoup\n",
    "import requests\n",
    "import re\n",
    "import pandas as pd"
   ]
  },
  {
   "cell_type": "markdown",
   "id": "b2e0a985",
   "metadata": {},
   "source": [
    "## Gambling HTML"
   ]
  },
  {
   "cell_type": "code",
   "execution_count": 8,
   "id": "ed76fd66",
   "metadata": {},
   "outputs": [],
   "source": [
    "# Sportsbet URL NBA\n",
    "sportsbet_url = 'https://www.sportsbet.com.au/betting/basketball-us/nba'"
   ]
  },
  {
   "cell_type": "code",
   "execution_count": 7,
   "id": "18fc57e5",
   "metadata": {},
   "outputs": [],
   "source": [
    "# Loop through url and create a list of dictionaries from all the competition matches and then convert to df\n",
    "# Change all the hard coded strings to variables when you find their attributes in other bookie sites\n",
    "def get_sports_data(url, bookie):\n",
    "    if bookie == 'sportsbet':\n",
    "        html = requests.get(url).text\n",
    "    soup = BeautifulSoup(html, 'html.parser')\n",
    "    competitions = []\n",
    "    for comp in soup.find_all('div', 'card_fohmrj3'): # Loop through competitions container\n",
    "        Odds = comp.find_all('div', re.compile('rice.ex')) # Find price text\n",
    "        competitions.append(\n",
    "        {\n",
    "            'Time': comp.find('div', re.compile('time')).text,\n",
    "            'Team_1': comp.select_one('div[data-automation-id=\"participant-one\"]').text,\n",
    "            'Team_2': comp.select_one('div[data-automation-id=\"participant-two\"]').text,\n",
    "            'Odds_1': Odds[0].text,\n",
    "            'Odds_2': Odds[1].text\n",
    "        })\n",
    "    comp_df = pd.DataFrame(competitions)\n",
    "    return comp_df"
   ]
  },
  {
   "cell_type": "code",
   "execution_count": 9,
   "id": "b33de41c",
   "metadata": {},
   "outputs": [
    {
     "data": {
      "text/html": [
       "<div>\n",
       "<style scoped>\n",
       "    .dataframe tbody tr th:only-of-type {\n",
       "        vertical-align: middle;\n",
       "    }\n",
       "\n",
       "    .dataframe tbody tr th {\n",
       "        vertical-align: top;\n",
       "    }\n",
       "\n",
       "    .dataframe thead th {\n",
       "        text-align: right;\n",
       "    }\n",
       "</style>\n",
       "<table border=\"1\" class=\"dataframe\">\n",
       "  <thead>\n",
       "    <tr style=\"text-align: right;\">\n",
       "      <th></th>\n",
       "      <th>Time</th>\n",
       "      <th>Team_1</th>\n",
       "      <th>Team_2</th>\n",
       "      <th>Odds_1</th>\n",
       "      <th>Odds_2</th>\n",
       "    </tr>\n",
       "  </thead>\n",
       "  <tbody>\n",
       "    <tr>\n",
       "      <th>0</th>\n",
       "      <td>01/03/22 11:10</td>\n",
       "      <td>Minnesota Timberwolves</td>\n",
       "      <td>Cleveland Cavaliers</td>\n",
       "      <td>1.80</td>\n",
       "      <td>2.05</td>\n",
       "    </tr>\n",
       "    <tr>\n",
       "      <th>1</th>\n",
       "      <td>01/03/22 11:10</td>\n",
       "      <td>Indiana Pacers</td>\n",
       "      <td>Orlando Magic</td>\n",
       "      <td>2.02</td>\n",
       "      <td>1.82</td>\n",
       "    </tr>\n",
       "    <tr>\n",
       "      <th>2</th>\n",
       "      <td>01/03/22 11:40</td>\n",
       "      <td>Chicago Bulls</td>\n",
       "      <td>Miami Heat</td>\n",
       "      <td>2.32</td>\n",
       "      <td>1.61</td>\n",
       "    </tr>\n",
       "    <tr>\n",
       "      <th>3</th>\n",
       "      <td>01/03/22 11:40</td>\n",
       "      <td>Toronto Raptors</td>\n",
       "      <td>Brooklyn Nets</td>\n",
       "      <td>1.69</td>\n",
       "      <td>2.18</td>\n",
       "    </tr>\n",
       "    <tr>\n",
       "      <th>4</th>\n",
       "      <td>01/03/22 12:10</td>\n",
       "      <td>Charlotte Hornets</td>\n",
       "      <td>Milwaukee Bucks</td>\n",
       "      <td>5.10</td>\n",
       "      <td>1.17</td>\n",
       "    </tr>\n",
       "    <tr>\n",
       "      <th>5</th>\n",
       "      <td>01/03/22 12:10</td>\n",
       "      <td>San Antonio Spurs</td>\n",
       "      <td>Memphis Grizzlies</td>\n",
       "      <td>4.00</td>\n",
       "      <td>1.25</td>\n",
       "    </tr>\n",
       "    <tr>\n",
       "      <th>6</th>\n",
       "      <td>01/03/22 12:10</td>\n",
       "      <td>Sacramento Kings</td>\n",
       "      <td>Oklahoma City Thunder</td>\n",
       "      <td>1.50</td>\n",
       "      <td>2.61</td>\n",
       "    </tr>\n",
       "  </tbody>\n",
       "</table>\n",
       "</div>"
      ],
      "text/plain": [
       "             Time                  Team_1                 Team_2 Odds_1 Odds_2\n",
       "0  01/03/22 11:10  Minnesota Timberwolves    Cleveland Cavaliers   1.80   2.05\n",
       "1  01/03/22 11:10          Indiana Pacers          Orlando Magic   2.02   1.82\n",
       "2  01/03/22 11:40           Chicago Bulls             Miami Heat   2.32   1.61\n",
       "3  01/03/22 11:40         Toronto Raptors          Brooklyn Nets   1.69   2.18\n",
       "4  01/03/22 12:10       Charlotte Hornets        Milwaukee Bucks   5.10   1.17\n",
       "5  01/03/22 12:10       San Antonio Spurs      Memphis Grizzlies   4.00   1.25\n",
       "6  01/03/22 12:10        Sacramento Kings  Oklahoma City Thunder   1.50   2.61"
      ]
     },
     "execution_count": 9,
     "metadata": {},
     "output_type": "execute_result"
    }
   ],
   "source": [
    "get_sports_data(sportsbet_url, bookie='sportsbet')"
   ]
  },
  {
   "cell_type": "code",
   "execution_count": null,
   "id": "69a9f45d",
   "metadata": {},
   "outputs": [],
   "source": []
  },
  {
   "cell_type": "code",
   "execution_count": null,
   "id": "a96e7a11",
   "metadata": {},
   "outputs": [],
   "source": []
  },
  {
   "cell_type": "code",
   "execution_count": null,
   "id": "24e2e3ee",
   "metadata": {},
   "outputs": [],
   "source": []
  },
  {
   "cell_type": "code",
   "execution_count": null,
   "id": "27c9c3f7",
   "metadata": {},
   "outputs": [],
   "source": []
  }
 ],
 "metadata": {
  "kernelspec": {
   "display_name": "Python 3 (ipykernel)",
   "language": "python",
   "name": "python3"
  },
  "language_info": {
   "codemirror_mode": {
    "name": "ipython",
    "version": 3
   },
   "file_extension": ".py",
   "mimetype": "text/x-python",
   "name": "python",
   "nbconvert_exporter": "python",
   "pygments_lexer": "ipython3",
   "version": "3.8.8"
  }
 },
 "nbformat": 4,
 "nbformat_minor": 5
}
